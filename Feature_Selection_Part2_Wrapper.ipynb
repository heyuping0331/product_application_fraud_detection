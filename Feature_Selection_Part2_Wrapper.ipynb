{
 "cells": [
  {
   "cell_type": "code",
   "execution_count": 1,
   "metadata": {},
   "outputs": [],
   "source": [
    "import os\n",
    "import pandas as pd\n",
    "#from mlxtend.feature_selection import SequentialFeatureSelector as sfs\n",
    "from sklearn.linear_model import LogisticRegression\n",
    "from sklearn.feature_selection import RFE\n",
    "from sklearn.model_selection import train_test_split\n",
    "from sklearn.preprocessing import scale"
   ]
  },
  {
   "cell_type": "code",
   "execution_count": 19,
   "metadata": {},
   "outputs": [],
   "source": [
    "# Import data\n",
    "os.chdir('C:\\\\Users\\\\heyup\\\\Documents\\\\DSO562\\\\Application')\n",
    "\n",
    "d = pd.read_csv('applications data 4.0.csv')"
   ]
  },
  {
   "cell_type": "code",
   "execution_count": 21,
   "metadata": {},
   "outputs": [],
   "source": [
    "# Excluding OOT set\n",
    "d['date']  = pd.to_datetime(d['date'])\n",
    "d = d[d['date'] <=\"2016-10-31\"]"
   ]
  },
  {
   "cell_type": "code",
   "execution_count": 23,
   "metadata": {},
   "outputs": [],
   "source": [
    "# 50 Candidate variables, 1 Fraud label\n",
    "variables = list(pd.read_excel('Variables Ranking.xlsx', sheet_name='Top 50 Variables')['Variable'])\n",
    "\n",
    "d_model = d.loc[:, variables]\n",
    "Y = d_model.loc[:,'fraud_label']\n",
    "X = d_model.drop('fraud_label', axis=1)"
   ]
  },
  {
   "cell_type": "code",
   "execution_count": 30,
   "metadata": {},
   "outputs": [
    {
     "name": "stdout",
     "output_type": "stream",
     "text": [
      "Num Features: 20\n"
     ]
    }
   ],
   "source": [
    "# Recursive feature selection: backward\n",
    "model = LogisticRegression()\n",
    "rfe = RFE(model, 20)\n",
    "fit = rfe.fit(X, Y)\n",
    "print(\"Num Features: %s\" % (fit.n_features_))\n",
    "# Final 20 features\n",
    "final_variables = list(X.columns.values[fit.support_])"
   ]
  },
  {
   "cell_type": "code",
   "execution_count": 31,
   "metadata": {},
   "outputs": [
    {
     "data": {
      "text/plain": [
       "['fulladdress31',\n",
       " 'fulladdress7',\n",
       " 'fulladdress3',\n",
       " 'fulladdress1',\n",
       " 'fulladdress,homephone31',\n",
       " 'ssn,namedob31',\n",
       " 'namedob31',\n",
       " 'fulladdress,homephone14',\n",
       " 'ssn,namedob14',\n",
       " 'namedob14',\n",
       " 'fulladdress,homephone7',\n",
       " 'fulladdress,homephone3',\n",
       " 'ssn,namedob3',\n",
       " 'fulladdress,homephone1',\n",
       " 'namedob1',\n",
       " 'fulladdress,namedob31',\n",
       " 'ssn,fulladdress,namedob31',\n",
       " 'ssn,fulladdress,homephone31',\n",
       " 'fulladdress,namedob,homephone31',\n",
       " 'ssn,fulladdress,namedob14']"
      ]
     },
     "execution_count": 31,
     "metadata": {},
     "output_type": "execute_result"
    }
   ],
   "source": [
    "final_variables"
   ]
  },
  {
   "cell_type": "code",
   "execution_count": 34,
   "metadata": {},
   "outputs": [],
   "source": [
    "pd.DataFrame(final_variables).to_csv(\"Final 20 Variables.csv\")"
   ]
  }
 ],
 "metadata": {
  "kernelspec": {
   "display_name": "Python 3",
   "language": "python",
   "name": "python3"
  },
  "language_info": {
   "codemirror_mode": {
    "name": "ipython",
    "version": 3
   },
   "file_extension": ".py",
   "mimetype": "text/x-python",
   "name": "python",
   "nbconvert_exporter": "python",
   "pygments_lexer": "ipython3",
   "version": "3.6.5"
  }
 },
 "nbformat": 4,
 "nbformat_minor": 2
}
